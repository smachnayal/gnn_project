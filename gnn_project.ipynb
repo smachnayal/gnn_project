{
 "cells": [
  {
   "cell_type": "code",
   "execution_count": 1,
   "id": "e3a1cbfd",
   "metadata": {},
   "outputs": [],
   "source": [
    "import pandas as pd\n",
    "import torch\n",
    "from torch_geometric.data import Data\n",
    "from torch_geometric.nn import GCNConv\n",
    "import torch.nn.functional as F\n",
    "import networkx as nx\n",
    "import matplotlib.pyplot as plt\n"
   ]
  },
  {
   "cell_type": "code",
   "execution_count": null,
   "id": "81e47c24",
   "metadata": {},
   "outputs": [
    {
     "name": "stdout",
     "output_type": "stream",
     "text": [
      " node  feature_chem_seq  sample_num_occur_1  sample_num_occur_2  feature_3\n",
      "node1          0.446807            1.709380            0.691575  -0.004359\n",
      "node2         -1.018638           -0.157258           -0.360668  -1.530005\n",
      "node3          0.963623           -1.219883           -1.353300  -1.388402\n"
     ]
    }
   ],
   "source": [
    "\n",
    "df = pd.read_csv(\"EXAMPLE_GNN.csv\")\n",
    "\n",
    "node_names = df.iloc[:, 0].astype(str).tolist()\n",
    "feat_df = df.iloc[:, 1:]\n",
    "\n",
    "feat_df = feat_df.select_dtypes(include=[\"number\"]).fillna(0.0)\n",
    "assert len(node_names) == len(feat_df)\n",
    "assert feat_df.shape[1] > 0\n",
    "\n",
    "x = torch.as_tensor(feat_df.to_numpy(dtype=\"float32\"))\n",
    "\n",
    "edge_index = torch.empty((2, 0), dtype=torch.long)\n",
    "\n",
    "data = Data(x=x, edge_index=edge_index)\n",
    "data.node_names = node_names\n",
    "data.num_nodes = x.shape[0]\n",
    "\n",
    "nodes_table = pd.DataFrame({\"node\": node_names})\n",
    "nodes_table = pd.concat([nodes_table, feat_df.reset_index(drop=True)], axis=1)\n",
    "print(nodes_table.to_string(index=False))"
   ]
  },
  {
   "cell_type": "code",
   "execution_count": 1,
   "id": "46bfb56c",
   "metadata": {},
   "outputs": [
    {
     "ename": "NameError",
     "evalue": "name 'torch' is not defined",
     "output_type": "error",
     "traceback": [
      "\u001b[31m---------------------------------------------------------------------------\u001b[39m",
      "\u001b[31mNameError\u001b[39m                                 Traceback (most recent call last)",
      "\u001b[36mCell\u001b[39m\u001b[36m \u001b[39m\u001b[32mIn[1]\u001b[39m\u001b[32m, line 1\u001b[39m\n\u001b[32m----> \u001b[39m\u001b[32m1\u001b[39m \u001b[38;5;28;01mclass\u001b[39;00m\u001b[38;5;250m \u001b[39m\u001b[34;01mSimpleGCN\u001b[39;00m(\u001b[43mtorch\u001b[49m.nn.Module):\n\u001b[32m      2\u001b[39m     \u001b[38;5;28;01mdef\u001b[39;00m\u001b[38;5;250m \u001b[39m\u001b[34m__init__\u001b[39m(\u001b[38;5;28mself\u001b[39m, in_dim, hidden_dim=\u001b[32m16\u001b[39m, out_dim=\u001b[32m8\u001b[39m):\n\u001b[32m      3\u001b[39m         \u001b[38;5;28msuper\u001b[39m().\u001b[34m__init__\u001b[39m()\n",
      "\u001b[31mNameError\u001b[39m: name 'torch' is not defined"
     ]
    }
   ],
   "source": [
    "class SimpleGCN(torch.nn.Module):\n",
    "    def __init__(self, in_dim, hidden_dim=16, out_dim=8):\n",
    "        super().__init__()\n",
    "        self.conv1 = GCNConv(in_dim, hidden_dim, add_self_loops=True, normalize=True)\n",
    "        self.conv2 = GCNConv(hidden_dim, out_dim, add_self_loops=True, normalize=True)\n",
    "    def forward(self, data: Data):\n",
    "        x = self.conv1(data.x, data.edge_index)\n",
    "        x = F.relu(x)\n",
    "        x = self.conv2(x, data.edge_index)\n",
    "        return x  \n",
    "\n",
    "model = SimpleGCN(in_dim=data.x.size(1), hidden_dim=16, out_dim=8)\n",
    "model.eval()\n",
    "with torch.no_grad():\n",
    "    embeddings = model(data)\n",
    "\n",
    "print(\"Embeddings shape:\", tuple(embeddings.shape))"
   ]
  },
  {
   "cell_type": "code",
   "execution_count": 13,
   "id": "09a10977",
   "metadata": {},
   "outputs": [
    {
     "data": {
      "image/png": "[encoded data removed]",
      "text/plain": [
       "<Figure size 500x500 with 1 Axes>"
      ]
     },
     "metadata": {},
     "output_type": "display_data"
    }
   ],
   "source": [
    "G = nx.Graph()\n",
    "G.add_nodes_from(range(len(node_names)))\n",
    "labels = {i: node_names[i] for i in range(len(node_names))}\n",
    "pos = nx.spring_layout(G, seed=42)\n",
    "plt.figure(figsize=(5, 5))\n",
    "nx.draw_networkx_nodes(G, pos, node_size=900, edgecolors=\"lightblue\", node_color = \"lightblue\")\n",
    "nx.draw_networkx_labels(G, pos, labels=labels, font_size=10)\n",
    "plt.title(\"Graph Visualization\")\n",
    "plt.axis(\"off\")\n",
    "plt.tight_layout()\n",
    "plt.show()"
   ]
  }
 ],
 "metadata": {
  "kernelspec": {
   "display_name": "gnn",
   "language": "python",
   "name": "python3"
  },
  "language_info": {
   "codemirror_mode": {
    "name": "ipython",
    "version": 3
   },
   "file_extension": ".py",
   "mimetype": "text/x-python",
   "name": "python",
   "nbconvert_exporter": "python",
   "pygments_lexer": "ipython3",
   "version": "3.12.11"
  }
 },
 "nbformat": 4,
 "nbformat_minor": 5
}
